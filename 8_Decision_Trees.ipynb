{
  "cells": [
    {
      "cell_type": "markdown",
      "id": "9bb016ec-154b-4c0c-a557-2bcbdff6aa19",
      "metadata": {
        "id": "9bb016ec-154b-4c0c-a557-2bcbdff6aa19"
      },
      "source": [
        "<center> Short Course on Data Sceince\n",
        "<center> Hands-on Tutorial Day-8\n",
        "<center> Introduction to Decision Trees\n"
      ]
    },
    {
      "cell_type": "markdown",
      "source": [
        "**Contents:**  \n",
        "1. Decision Trees  \n",
        "1a. Building decision trees <br />\n",
        "1b. Analysing decision trees<br />\n",
        "1c. Getting feature importance in trees  <br />\n",
        "1d. Decision trees vs logistic regression<br />\n",
        "1e. Decision trees: a high variance model<br />\n",
        "2. Bagging classifier\n",
        "3. Random Forest (RF) classification  \n",
        "4. Adaboost\n",
        "\n"
      ],
      "metadata": {
        "id": "3xIp2QjWX9GP"
      },
      "id": "3xIp2QjWX9GP"
    },
    {
      "cell_type": "code",
      "execution_count": null,
      "id": "410f5d1a-5e0f-4423-a5c5-aa0a83ff9321",
      "metadata": {
        "id": "410f5d1a-5e0f-4423-a5c5-aa0a83ff9321"
      },
      "outputs": [],
      "source": [
        "# Load necessary packages\n",
        "import numpy as np\n",
        "import matplotlib.pyplot as plt\n",
        "%matplotlib inline\n",
        "import sklearn\n",
        "import pandas as pd\n",
        "from sklearn.model_selection import train_test_split"
      ]
    },
    {
      "cell_type": "code",
      "source": [
        "!pip install mglearn"
      ],
      "metadata": {
        "id": "xmBgh7UWX7dS"
      },
      "id": "xmBgh7UWX7dS",
      "execution_count": null,
      "outputs": []
    },
    {
      "cell_type": "code",
      "source": [
        "import mglearn"
      ],
      "metadata": {
        "id": "n8n0LqN2X9u5"
      },
      "id": "n8n0LqN2X9u5",
      "execution_count": null,
      "outputs": []
    },
    {
      "cell_type": "markdown",
      "id": "dc41bf13-25d4-4bb9-a44d-18cb4b557400",
      "metadata": {
        "id": "dc41bf13-25d4-4bb9-a44d-18cb4b557400"
      },
      "source": [
        "### Building Decision trees\n",
        "The codes will show how the decision tree has been built for classifying the data into two classes"
      ]
    },
    {
      "cell_type": "code",
      "execution_count": null,
      "id": "9c5e787e-c1fd-4de7-b9d0-3a6d143b6441",
      "metadata": {
        "id": "9c5e787e-c1fd-4de7-b9d0-3a6d143b6441"
      },
      "outputs": [],
      "source": [
        "import graphviz\n",
        "mglearn.plots.plot_tree_progressive()"
      ]
    },
    {
      "cell_type": "code",
      "execution_count": null,
      "id": "360fdbc1-120d-4592-a8c0-bf55b5400b1b",
      "metadata": {
        "id": "360fdbc1-120d-4592-a8c0-bf55b5400b1b"
      },
      "outputs": [],
      "source": [
        "# Load dataset\n",
        "from sklearn.datasets import load_breast_cancer\n",
        "cancer = load_breast_cancer()\n",
        "print(\"cancer.keys():\\n\", cancer.keys())\n",
        "df = pd.DataFrame(cancer.data, columns=cancer.feature_names)\n",
        "df1 = pd.DataFrame(cancer.target)\n",
        "print(cancer.target_names)\n",
        "pd.set_option('display.max_columns', None)\n",
        "df1"
      ]
    },
    {
      "cell_type": "code",
      "execution_count": null,
      "id": "a4f5e950-c826-419b-9452-2e556dcef040",
      "metadata": {
        "id": "a4f5e950-c826-419b-9452-2e556dcef040"
      },
      "outputs": [],
      "source": [
        "print(\"Shape of cancer data:\", cancer.data.shape)"
      ]
    },
    {
      "cell_type": "code",
      "execution_count": null,
      "id": "2cd77b21-ba20-488f-9ce6-a71b0aa56996",
      "metadata": {
        "id": "2cd77b21-ba20-488f-9ce6-a71b0aa56996"
      },
      "outputs": [],
      "source": [
        "# No.of samples in each class\n",
        "print(\"Sample counts per class:\\n\",\n",
        "      {n: v for n, v in zip(cancer.target_names, np.bincount(cancer.target))})"
      ]
    },
    {
      "cell_type": "code",
      "execution_count": null,
      "id": "af0e7f6b-ea92-4f50-9a6f-1178cd5d86bc",
      "metadata": {
        "id": "af0e7f6b-ea92-4f50-9a6f-1178cd5d86bc"
      },
      "outputs": [],
      "source": [
        "print(\"Feature names:\\n\", cancer.feature_names)"
      ]
    },
    {
      "cell_type": "code",
      "execution_count": null,
      "id": "aa1ba4c2-6d26-40b8-8685-fc0040b012ce",
      "metadata": {
        "id": "aa1ba4c2-6d26-40b8-8685-fc0040b012ce"
      },
      "outputs": [],
      "source": [
        "# Split the data\n",
        "X_train, X_test, y_train, y_test = train_test_split(\n",
        "    cancer.data, cancer.target, stratify=cancer.target, test_size = 0.3, random_state=2)"
      ]
    },
    {
      "cell_type": "code",
      "execution_count": null,
      "id": "7f080d86-aa1b-4aed-b0f9-2f682c77c349",
      "metadata": {
        "id": "7f080d86-aa1b-4aed-b0f9-2f682c77c349"
      },
      "outputs": [],
      "source": [
        "from sklearn.tree import DecisionTreeClassifier\n",
        "\n",
        "# Define the variable for Decision tree classifier\n",
        "tree0 = DecisionTreeClassifier(random_state=0)\n",
        "tree0.fit(X_train, y_train)\n",
        "print(\"Accuracy on training set: {:.3f}\".format(tree0.score(X_train, y_train)))\n",
        "print(\"Accuracy on test set: {:.3f}\".format(tree0.score(X_test, y_test)))"
      ]
    },
    {
      "cell_type": "markdown",
      "source": [
        "![DT_arch.jpeg](https://drive.google.com/uc?export=view&id=1UVJScDlYZhzX0suxof6sLMv4PM6KUOuY)"
      ],
      "metadata": {
        "id": "rtdmARA8isfk"
      },
      "id": "rtdmARA8isfk"
    },
    {
      "cell_type": "markdown",
      "source": [
        "![stop_cri.jpeg](https://drive.google.com/uc?export=view&id=1kSPzo2XchoONeqAMXlypozrzvLT4JS88)\n"
      ],
      "metadata": {
        "id": "jJBvCpOyi73H"
      },
      "id": "jJBvCpOyi73H"
    },
    {
      "cell_type": "code",
      "execution_count": null,
      "id": "da88c271-ea36-43ee-b5e2-baea71e0d653",
      "metadata": {
        "id": "da88c271-ea36-43ee-b5e2-baea71e0d653"
      },
      "outputs": [],
      "source": [
        "tree = DecisionTreeClassifier(max_depth=5, random_state=0)\n",
        "tree.fit(X_train, y_train)\n",
        "\n",
        "print(\"Accuracy on training set: {:.3f}\".format(tree.score(X_train, y_train)))\n",
        "print(\"Accuracy on test set: {:.3f}\".format(tree.score(X_test, y_test)))"
      ]
    },
    {
      "cell_type": "code",
      "execution_count": null,
      "id": "2300cc00-a4d9-41e1-ab35-e5015df215ca",
      "metadata": {
        "id": "2300cc00-a4d9-41e1-ab35-e5015df215ca"
      },
      "outputs": [],
      "source": [
        "from sklearn.model_selection import RandomizedSearchCV\n",
        "from scipy.stats import reciprocal, uniform\n",
        "\n",
        "param_choice = {\n",
        "    \"max_leaf_nodes\": np.linspace(20,100,30).astype(int),\n",
        "    \"max_depth\": list(range(3,11))\n",
        "}\n",
        "rnd_search_cv = RandomizedSearchCV(tree, param_choice, n_iter=100, cv=5,\n",
        "                                   random_state=42)\n",
        "rnd_search_cv.fit(X_train, y_train)\n",
        "print(rnd_search_cv.best_estimator_)\n",
        "print(rnd_search_cv.best_params_)\n",
        "tuned_tree = rnd_search_cv.best_estimator_"
      ]
    },
    {
      "cell_type": "code",
      "source": [
        "tree = DecisionTreeClassifier(max_depth=rnd_search_cv.best_params_['max_depth'],\n",
        "                              max_leaf_nodes=rnd_search_cv.best_params_['max_leaf_nodes'],\n",
        "                              random_state=0)\n",
        "tree.fit(X_train, y_train)\n",
        "\n",
        "print(\"Accuracy on training set: {:.3f}\".format(tree.score(X_train, y_train)))\n",
        "print(\"Accuracy on test set: {:.3f}\".format(tree.score(X_test, y_test)))"
      ],
      "metadata": {
        "id": "MUlNKPHKoQt6"
      },
      "id": "MUlNKPHKoQt6",
      "execution_count": null,
      "outputs": []
    },
    {
      "cell_type": "markdown",
      "id": "2e0017d0-3ffa-4e80-80d0-0449f0d5ad6a",
      "metadata": {
        "id": "2e0017d0-3ffa-4e80-80d0-0449f0d5ad6a"
      },
      "source": [
        "### Analyzing decision trees"
      ]
    },
    {
      "cell_type": "code",
      "execution_count": null,
      "id": "35685b7b-0593-46f8-a431-b917400852f6",
      "metadata": {
        "id": "35685b7b-0593-46f8-a431-b917400852f6"
      },
      "outputs": [],
      "source": [
        "from sklearn.tree import export_graphviz\n",
        "export_graphviz(tree, out_file=\"tree.dot\", class_names=[\"malignant\", \"benign\"],\n",
        "                feature_names=cancer.feature_names, impurity=False, filled=True)"
      ]
    },
    {
      "cell_type": "code",
      "execution_count": null,
      "id": "e8f1abe1-8074-44da-b8b4-bbd148775557",
      "metadata": {
        "id": "e8f1abe1-8074-44da-b8b4-bbd148775557"
      },
      "outputs": [],
      "source": [
        "with open(\"tree.dot\") as f:\n",
        "    dot_graph = f.read()\n",
        "display(graphviz.Source(dot_graph))"
      ]
    },
    {
      "cell_type": "markdown",
      "id": "b0e28076-8360-4a97-a983-047014d7752f",
      "metadata": {
        "id": "b0e28076-8360-4a97-a983-047014d7752f"
      },
      "source": [
        "### Feature importance in Trees\n",
        "Feature importance score is the relative importance of the feature in predicting the class of the sample"
      ]
    },
    {
      "cell_type": "code",
      "execution_count": null,
      "id": "09d66e7a-7575-46cd-b777-7a86fe831d7d",
      "metadata": {
        "id": "09d66e7a-7575-46cd-b777-7a86fe831d7d"
      },
      "outputs": [],
      "source": [
        "# Feature importance for the cancer data\n",
        "print(\"Feature importances:\")\n",
        "print(tree.feature_importances_)"
      ]
    },
    {
      "cell_type": "code",
      "execution_count": null,
      "id": "a7b65365-735d-4434-9d43-7bc3a634050e",
      "metadata": {
        "id": "a7b65365-735d-4434-9d43-7bc3a634050e"
      },
      "outputs": [],
      "source": [
        "# Plotting the feature importance score\n",
        "\n",
        "def plot_feature_importances_cancer(model):\n",
        "    n_features = cancer.data.shape[1]\n",
        "    plt.barh(np.arange(n_features), model.feature_importances_, align='center')\n",
        "    plt.yticks(np.arange(n_features), cancer.feature_names)\n",
        "    plt.xlabel(\"Feature importance\")\n",
        "    plt.ylabel(\"Feature\")\n",
        "    plt.ylim(-1, n_features)\n",
        "\n",
        "plot_feature_importances_cancer(tree)"
      ]
    },
    {
      "cell_type": "markdown",
      "source": [
        "## Evaluation metrics"
      ],
      "metadata": {
        "id": "PHcJOm7l6c-G"
      },
      "id": "PHcJOm7l6c-G"
    },
    {
      "cell_type": "code",
      "execution_count": null,
      "id": "fead13bd-ecb4-4d8d-91fe-e336ca2aa436",
      "metadata": {
        "id": "fead13bd-ecb4-4d8d-91fe-e336ca2aa436"
      },
      "outputs": [],
      "source": [
        "# Confusion matrix\n",
        "y_pred = tree.predict(X_test)\n",
        "cm = confusion_matrix(y_test, y_pred)  # Calculate confusion matrix\n",
        "disp = ConfusionMatrixDisplay(confusion_matrix=cm)\n",
        "disp.plot()"
      ]
    },
    {
      "cell_type": "code",
      "source": [
        "# ROC curve\n",
        "from sklearn.metrics import roc_auc_score\n",
        "from sklearn.metrics import roc_curve\n",
        "\n",
        "roc_bag = roc_auc_score(y_test, tree.predict_proba(X_test)[:,1])\n",
        "\n",
        "fpr, tpr, thresholds = roc_curve(y_test, tree.predict_proba(X_test)[:,1])\n",
        "\n",
        "plt.plot(fpr, tpr, linewidth=2, label=\"ROC curve\")\n",
        "plt.xlabel('False Positive Rate')\n",
        "plt.ylabel('True Positive Rate')"
      ],
      "metadata": {
        "id": "81u0jEvo6bKd"
      },
      "id": "81u0jEvo6bKd",
      "execution_count": null,
      "outputs": []
    },
    {
      "cell_type": "markdown",
      "source": [
        "## Decision trees vs logistic regression"
      ],
      "metadata": {
        "id": "jCGNV9CUvNHT"
      },
      "id": "jCGNV9CUvNHT"
    },
    {
      "cell_type": "markdown",
      "source": [
        "![LR vs DT1.jpeg](https://drive.google.com/uc?export=view&id=1WXQKUNjlPgCz88EKsPrFq4qOqPIMf_k0)\n"
      ],
      "metadata": {
        "id": "fSltjIgJvAKI"
      },
      "id": "fSltjIgJvAKI"
    },
    {
      "cell_type": "markdown",
      "source": [
        "![LR vs DT2.jpeg](https://drive.google.com/uc?export=view&id=1FVaALukKs9qIpJ7gJtfMFwJDoCuL7TAk)\n"
      ],
      "metadata": {
        "id": "E7-8r53AvpvH"
      },
      "id": "E7-8r53AvpvH"
    },
    {
      "cell_type": "markdown",
      "source": [
        "## Decision Trees: High variance model"
      ],
      "metadata": {
        "id": "507uW1-OxW_B"
      },
      "id": "507uW1-OxW_B"
    },
    {
      "cell_type": "code",
      "source": [
        "import sklearn.datasets as ds\n",
        "x,y=ds.make_blobs(n_samples=(200,200), n_features=2,centers=((-2,0),(4,-4)),\n",
        "                  cluster_std=2,random_state=42)\n",
        "\n",
        "# Visualizing the dataset obtained\n",
        "fig,ax=plt.subplots(figsize=(8,8))\n",
        "ax.scatter(x[y==0,0],x[y==0,1],c='r')\n",
        "ax.scatter(x[y==1,0],x[y==1,1],c='black')\n",
        "ax.set_xlabel(r'$X_1$',fontsize=15)\n",
        "ax.set_ylabel(r'$X_2$',fontsize=15)\n",
        "fontproperties = {'weight' : 'bold', 'size' : '12'}\n",
        "ax.set_xticklabels(ax.get_xticks(), fontproperties)\n",
        "ax.set_yticklabels(ax.get_yticks(), fontproperties)"
      ],
      "metadata": {
        "id": "_Z7729rwxNWX"
      },
      "id": "_Z7729rwxNWX",
      "execution_count": null,
      "outputs": []
    },
    {
      "cell_type": "code",
      "source": [
        "# fitting two models on subset dataset\n",
        "x1=x[:200,:]\n",
        "x2=x[200:,:]\n",
        "y1=y[:200]\n",
        "y2=y[200:]\n",
        "\n",
        "tree1=DecisionTreeClassifier(max_depth=1)\n",
        "tree2=DecisionTreeClassifier(max_depth=1)\n",
        "tree1.fit(x1,y1)\n",
        "tree2.fit(x2,y2)"
      ],
      "metadata": {
        "id": "ohkXi7a5xuCC"
      },
      "id": "ohkXi7a5xuCC",
      "execution_count": null,
      "outputs": []
    },
    {
      "cell_type": "code",
      "source": [
        "from sklearn.tree import export_graphviz\n",
        "export_graphviz(tree1, out_file=\"tree1.dot\", class_names=[\"0\", \"1\"],\n",
        "                feature_names=['x1','x2'], impurity=False, filled=True)\n",
        "export_graphviz(tree2, out_file=\"tree2.dot\", class_names=[\"0\", \"1\"],\n",
        "                feature_names=['x1','x2'], impurity=False, filled=True)"
      ],
      "metadata": {
        "id": "V7LXT6gYyCRT"
      },
      "id": "V7LXT6gYyCRT",
      "execution_count": null,
      "outputs": []
    },
    {
      "cell_type": "code",
      "source": [
        "with open(\"tree1.dot\") as f:\n",
        "    dot_graph = f.read()\n",
        "display(graphviz.Source(dot_graph))"
      ],
      "metadata": {
        "id": "H1VOizK9yocc"
      },
      "id": "H1VOizK9yocc",
      "execution_count": null,
      "outputs": []
    },
    {
      "cell_type": "code",
      "source": [
        "with open(\"tree2.dot\") as f:\n",
        "    dot_graph = f.read()\n",
        "display(graphviz.Source(dot_graph))"
      ],
      "metadata": {
        "id": "a_Ej_vuDyo2w"
      },
      "id": "a_Ej_vuDyo2w",
      "execution_count": null,
      "outputs": []
    },
    {
      "cell_type": "markdown",
      "id": "a165184b-de10-4e58-b1da-d0143d02c287",
      "metadata": {
        "id": "a165184b-de10-4e58-b1da-d0143d02c287"
      },
      "source": [
        "## Bagging Classifiers"
      ]
    },
    {
      "cell_type": "markdown",
      "source": [
        "![bag.jpeg](https://drive.google.com/uc?export=view&id=1jeCcMvWNAKkoxQ2VQh1dVk9rOnS3XQC9)\n"
      ],
      "metadata": {
        "id": "8ao_VEJ4zrUX"
      },
      "id": "8ao_VEJ4zrUX"
    },
    {
      "cell_type": "code",
      "source": [
        "from sklearn.ensemble import BaggingClassifier\n",
        "max_depth = 2\n",
        "\n",
        "# Set the maximum depth to be max_depth and use 100 estimators\n",
        "n_estimators = 100\n",
        "basemodel=DecisionTreeClassifier(max_depth=rnd_search_cv.best_params_['max_depth'],\n",
        "                    max_leaf_nodes=rnd_search_cv.best_params_['max_leaf_nodes'],\n",
        "                    random_state=0)\n",
        "\n",
        "bagging = BaggingClassifier(base_estimator=basemodel,\n",
        "                            n_estimators=n_estimators)\n",
        "# Fit the model on the training set\n",
        "\n",
        "bagging.fit(X_train, y_train)"
      ],
      "metadata": {
        "id": "kONt8UAnumHG"
      },
      "id": "kONt8UAnumHG",
      "execution_count": null,
      "outputs": []
    },
    {
      "cell_type": "code",
      "source": [
        "print(\"Accuracy on training set: {:.3f}\".format(bagging.score(X_train, y_train)))\n",
        "print(\"Accuracy on test set: {:.3f}\".format(bagging.score(X_test, y_test)))"
      ],
      "metadata": {
        "id": "-AxFwwL_1bbu"
      },
      "id": "-AxFwwL_1bbu",
      "execution_count": null,
      "outputs": []
    },
    {
      "cell_type": "code",
      "source": [
        "# ROC curve\n",
        "from sklearn.metrics import roc_auc_score\n",
        "from sklearn.metrics import roc_curve\n",
        "\n",
        "roc_bag = roc_auc_score(y_test, bagging.predict_proba(X_test)[:,1])\n",
        "\n",
        "fpr, tpr, thresholds = roc_curve(y_test, bagging.predict_proba(X_test)[:,1])\n",
        "\n",
        "plt.plot(fpr, tpr, linewidth=2, label=\"ROC curve\")\n",
        "plt.xlabel('False Positive Rate')\n",
        "plt.ylabel('True Positive Rate')"
      ],
      "metadata": {
        "id": "HqWZKkIh39eQ"
      },
      "id": "HqWZKkIh39eQ",
      "execution_count": null,
      "outputs": []
    },
    {
      "cell_type": "code",
      "source": [
        "from sklearn.tree import export_graphviz\n",
        "export_graphviz(bagging.estimators_[0],max_depth=2, out_file=\"bag1.dot\", class_names=[\"malignant\", \"benign\"],\n",
        "                feature_names=cancer.feature_names, impurity=False, filled=True)\n",
        "export_graphviz(bagging.estimators_[1], max_depth=2,out_file=\"bag2.dot\", class_names=[\"malignant\", \"benign\"],\n",
        "                feature_names=cancer.feature_names, impurity=False, filled=True)"
      ],
      "metadata": {
        "id": "Y0l0IFB94we2"
      },
      "id": "Y0l0IFB94we2",
      "execution_count": null,
      "outputs": []
    },
    {
      "cell_type": "code",
      "source": [
        "with open(\"bag1.dot\") as f:\n",
        "    dot_graph = f.read()\n",
        "display(graphviz.Source(dot_graph))"
      ],
      "metadata": {
        "id": "_brzxAxa5nKY"
      },
      "id": "_brzxAxa5nKY",
      "execution_count": null,
      "outputs": []
    },
    {
      "cell_type": "code",
      "source": [
        "with open(\"bag2.dot\") as f:\n",
        "    dot_graph = f.read()\n",
        "display(graphviz.Source(dot_graph))"
      ],
      "metadata": {
        "id": "QGZ65XF65q1C"
      },
      "id": "QGZ65XF65q1C",
      "execution_count": null,
      "outputs": []
    },
    {
      "cell_type": "markdown",
      "source": [
        "## Random forest classifier"
      ],
      "metadata": {
        "id": "mGCp5qo14x3u"
      },
      "id": "mGCp5qo14x3u"
    },
    {
      "cell_type": "markdown",
      "source": [
        "\n",
        "![rf.jpeg](https://drive.google.com/uc?export=view&id=1bshha2H4X8a3hIusPbrtebTg8LUH7Ypw)\n"
      ],
      "metadata": {
        "id": "rkGx7pVI9j6P"
      },
      "id": "rkGx7pVI9j6P"
    },
    {
      "cell_type": "code",
      "source": [
        "from sklearn.ensemble import RandomForestClassifier\n",
        "rf = RandomForestClassifier(max_depth=5,n_estimators=100,\n",
        "                            max_features='sqrt')\n",
        "\n",
        "# fit the model in training dataset\n",
        "rf.fit(X_train, y_train)\n"
      ],
      "metadata": {
        "id": "974-KPqq98rM"
      },
      "execution_count": null,
      "outputs": [],
      "id": "974-KPqq98rM"
    },
    {
      "cell_type": "code",
      "source": [
        "print(\"Accuracy on training set: {:.3f}\".format(rf.score(X_train, y_train)))\n",
        "print(\"Accuracy on test set: {:.3f}\".format(rf.score(X_test, y_test)))"
      ],
      "metadata": {
        "id": "Nxaqh73098rO"
      },
      "execution_count": null,
      "outputs": [],
      "id": "Nxaqh73098rO"
    },
    {
      "cell_type": "code",
      "source": [
        "# ROC curve\n",
        "from sklearn.metrics import roc_auc_score\n",
        "from sklearn.metrics import roc_curve\n",
        "\n",
        "roc_bag = roc_auc_score(y_test, rf.predict_proba(X_test)[:,1])\n",
        "\n",
        "fpr, tpr, thresholds = roc_curve(y_test,\n",
        "                                 rf.predict_proba(X_test)[:,1])\n",
        "\n",
        "plt.plot(fpr, tpr, linewidth=2, label=\"ROC curve\")\n",
        "plt.xlabel('False Positive Rate')\n",
        "plt.ylabel('True Positive Rate')"
      ],
      "metadata": {
        "id": "nrvfHx7Q98rO"
      },
      "execution_count": null,
      "outputs": [],
      "id": "nrvfHx7Q98rO"
    },
    {
      "cell_type": "code",
      "source": [
        "from sklearn.tree import export_graphviz\n",
        "export_graphviz(rf.estimators_[0],max_depth=2,\n",
        "                out_file=\"rf1.dot\", class_names=[\"malignant\",\n",
        "                                                 \"benign\"],\n",
        "                feature_names=cancer.feature_names, impurity=False,\n",
        "                filled=True)\n",
        "export_graphviz(rf.estimators_[1], max_depth=2,out_file=\"rf2.dot\", class_names=[\"malignant\", \"benign\"],\n",
        "                feature_names=cancer.feature_names, impurity=False, filled=True)"
      ],
      "metadata": {
        "id": "KhE7IxaL98rO"
      },
      "execution_count": null,
      "outputs": [],
      "id": "KhE7IxaL98rO"
    },
    {
      "cell_type": "code",
      "source": [
        "with open(\"rf1.dot\") as f:\n",
        "    dot_graph = f.read()\n",
        "display(graphviz.Source(dot_graph))"
      ],
      "metadata": {
        "id": "LLxKgfqE98rP"
      },
      "execution_count": null,
      "outputs": [],
      "id": "LLxKgfqE98rP"
    },
    {
      "cell_type": "code",
      "source": [
        "with open(\"rf2.dot\") as f:\n",
        "    dot_graph = f.read()\n",
        "display(graphviz.Source(dot_graph))"
      ],
      "metadata": {
        "id": "kYTFMvDD98rP"
      },
      "execution_count": null,
      "outputs": [],
      "id": "kYTFMvDD98rP"
    },
    {
      "cell_type": "markdown",
      "source": [
        "## Random forest on moon dataset"
      ],
      "metadata": {
        "id": "8b2jtKxuWJxh"
      },
      "id": "8b2jtKxuWJxh"
    },
    {
      "cell_type": "code",
      "execution_count": null,
      "id": "f2a1fc25-0c7e-457d-97a3-07793a699a75",
      "metadata": {
        "id": "f2a1fc25-0c7e-457d-97a3-07793a699a75"
      },
      "outputs": [],
      "source": [
        "from sklearn.datasets import make_moons\n",
        "# Generate dataset\n",
        "X, y = make_moons(n_samples=100, noise=0.25, random_state=3)"
      ]
    },
    {
      "cell_type": "code",
      "source": [
        "y"
      ],
      "metadata": {
        "id": "D3sgURZ5Fx-u"
      },
      "id": "D3sgURZ5Fx-u",
      "execution_count": null,
      "outputs": []
    },
    {
      "cell_type": "code",
      "execution_count": null,
      "id": "742e1840-7349-4668-aa3e-9b139c006aef",
      "metadata": {
        "id": "742e1840-7349-4668-aa3e-9b139c006aef"
      },
      "outputs": [],
      "source": [
        "X1_train, X1_test, y1_train, y1_test = train_test_split(X, y, stratify=y,\n",
        "                                                    test_size=0.3,random_state=42)"
      ]
    },
    {
      "cell_type": "code",
      "execution_count": null,
      "id": "ac60c929-a41c-47c1-9294-28070077e9d5",
      "metadata": {
        "id": "ac60c929-a41c-47c1-9294-28070077e9d5"
      },
      "outputs": [],
      "source": [
        "# Random forest model fitting\n",
        "forest = RandomForestClassifier(max_depth=5,n_estimators=100,max_features='sqrt')\n",
        "forest.fit(X1_train, y1_train)"
      ]
    },
    {
      "cell_type": "code",
      "execution_count": null,
      "id": "770ef7ad-c292-4274-8a6f-b2bc5f21a67d",
      "metadata": {
        "id": "770ef7ad-c292-4274-8a6f-b2bc5f21a67d"
      },
      "outputs": [],
      "source": [
        "fig, axes = plt.subplots(2, 3, figsize=(20, 10))\n",
        "for i, (ax, tree) in enumerate(zip(axes.ravel(), forest.estimators_)):\n",
        "    ax.set_title(\"Tree {}\".format(i))\n",
        "    mglearn.plots.plot_tree_partition(X1_train, y1_train, tree, ax=ax)\n",
        "\n",
        "mglearn.plots.plot_2d_separator(forest, X1_train, fill=True, ax=axes[-1, -1],\n",
        "                                alpha=.4)\n",
        "axes[-1, -1].set_title(\"Random Forest\")\n",
        "mglearn.discrete_scatter(X1_train[:, 0], X1_train[:, 1], y1_train)"
      ]
    },
    {
      "cell_type": "markdown",
      "source": [
        "## Adaboost classifier"
      ],
      "metadata": {
        "id": "kY5_UdMI02Si"
      },
      "id": "kY5_UdMI02Si"
    },
    {
      "cell_type": "code",
      "source": [
        "from sklearn.ensemble import AdaBoostClassifier"
      ],
      "metadata": {
        "id": "AtcqA3gs03t9"
      },
      "id": "AtcqA3gs03t9",
      "execution_count": null,
      "outputs": []
    },
    {
      "cell_type": "code",
      "source": [
        "\n",
        "ad = AdaBoostClassifier()\n",
        "\n",
        "# fit the model in training dataset\n",
        "ad.fit(X_train, y_train)\n"
      ],
      "metadata": {
        "id": "jJ8I6lbC1RBN"
      },
      "execution_count": null,
      "outputs": [],
      "id": "jJ8I6lbC1RBN"
    },
    {
      "cell_type": "code",
      "source": [
        "print(\"Accuracy on training set: {:.3f}\".format(ad.score(X_train, y_train)))\n",
        "print(\"Accuracy on test set: {:.3f}\".format(ad.score(X_test, y_test)))"
      ],
      "metadata": {
        "id": "oEkFhAlQ1RBO"
      },
      "execution_count": null,
      "outputs": [],
      "id": "oEkFhAlQ1RBO"
    },
    {
      "cell_type": "code",
      "source": [
        "# ROC curve\n",
        "\n",
        "roc_bag = roc_auc_score(y_test, ad.predict_proba(X_test)[:,1])\n",
        "\n",
        "fpr, tpr, thresholds = roc_curve(y_test, ad.predict_proba(X_test)[:,1])\n",
        "\n",
        "plt.plot(fpr, tpr, linewidth=2, label=\"ROC curve\")\n",
        "plt.xlabel('False Positive Rate')\n",
        "plt.ylabel('True Positive Rate')"
      ],
      "metadata": {
        "id": "QJNYznSs1RBP"
      },
      "execution_count": null,
      "outputs": [],
      "id": "QJNYznSs1RBP"
    },
    {
      "cell_type": "code",
      "source": [
        "\n",
        "export_graphviz(ad.estimators_[0], out_file=\"ad1.dot\", class_names=[\"malignant\", \"benign\"],\n",
        "                feature_names=cancer.feature_names, impurity=False, filled=True)\n",
        "export_graphviz(ad.estimators_[1], out_file=\"ad2.dot\", class_names=[\"malignant\", \"benign\"],\n",
        "                feature_names=cancer.feature_names, impurity=False, filled=True)"
      ],
      "metadata": {
        "id": "6mqcxB9p1RBR"
      },
      "execution_count": null,
      "outputs": [],
      "id": "6mqcxB9p1RBR"
    },
    {
      "cell_type": "code",
      "source": [
        "with open(\"ad1.dot\") as f:\n",
        "    dot_graph = f.read()\n",
        "display(graphviz.Source(dot_graph))"
      ],
      "metadata": {
        "id": "nlD14mJm1RBR"
      },
      "execution_count": null,
      "outputs": [],
      "id": "nlD14mJm1RBR"
    },
    {
      "cell_type": "code",
      "source": [
        "with open(\"ad2.dot\") as f:\n",
        "    dot_graph = f.read()\n",
        "display(graphviz.Source(dot_graph))"
      ],
      "metadata": {
        "id": "Oe9OGQyI1RBR"
      },
      "execution_count": null,
      "outputs": [],
      "id": "Oe9OGQyI1RBR"
    },
    {
      "cell_type": "markdown",
      "source": [
        "## Adaboost on moon dataset"
      ],
      "metadata": {
        "id": "fQtluQbj2Ce1"
      },
      "id": "fQtluQbj2Ce1"
    },
    {
      "cell_type": "code",
      "execution_count": null,
      "metadata": {
        "id": "gF0y1eiu2Ce2"
      },
      "outputs": [],
      "source": [
        "# Random forest model fitting\n",
        "ada = AdaBoostClassifier()\n",
        "ada.fit(X1_train, y1_train)"
      ],
      "id": "gF0y1eiu2Ce2"
    },
    {
      "cell_type": "code",
      "execution_count": null,
      "metadata": {
        "id": "4EuXra-G2Ce3"
      },
      "outputs": [],
      "source": [
        "fig, axes = plt.subplots(2, 3, figsize=(20, 10))\n",
        "for i, (ax, tree) in enumerate(zip(axes.ravel(), ada.estimators_)):\n",
        "    ax.set_title(\"Tree {}\".format(i))\n",
        "    mglearn.plots.plot_tree_partition(X1_train, y1_train, tree, ax=ax)\n",
        "\n",
        "mglearn.plots.plot_2d_separator(ada, X1_train, fill=True, ax=axes[-1, -1],\n",
        "                                alpha=.4)\n",
        "axes[-1, -1].set_title(\"Adaboost\")\n",
        "mglearn.discrete_scatter(X1_train[:, 0], X1_train[:, 1], y1_train)"
      ],
      "id": "4EuXra-G2Ce3"
    },
    {
      "cell_type": "markdown",
      "source": [
        "**Sources:**  \n",
        "1. [Stat 508 - Applied data mining and statistical learning](https://online.stat.psu.edu/stat508/lesson/9/9.2/9.2.6)  \n",
        "2. [Hands-on machine learning with Scikit-Learn by A.Geron](https://github.com/ageron/handson-ml3)  \n",
        "\n"
      ],
      "metadata": {
        "id": "urLhkk8h2uXv"
      },
      "id": "urLhkk8h2uXv"
    }
  ],
  "metadata": {
    "kernelspec": {
      "display_name": "Python 3 (ipykernel)",
      "language": "python",
      "name": "python3"
    },
    "language_info": {
      "codemirror_mode": {
        "name": "ipython",
        "version": 3
      },
      "file_extension": ".py",
      "mimetype": "text/x-python",
      "name": "python",
      "nbconvert_exporter": "python",
      "pygments_lexer": "ipython3",
      "version": "3.8.10"
    },
    "colab": {
      "provenance": []
    }
  },
  "nbformat": 4,
  "nbformat_minor": 5
}