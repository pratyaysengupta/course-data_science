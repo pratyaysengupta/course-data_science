{
  "nbformat": 4,
  "nbformat_minor": 0,
  "metadata": {
    "colab": {
      "provenance": []
    },
    "kernelspec": {
      "name": "python3",
      "display_name": "Python 3"
    },
    "language_info": {
      "name": "python"
    }
  },
  "cells": [
    {
      "cell_type": "markdown",
      "source": [
        "<center> Mini Course -  Linear Algebra\n",
        "<center> Hands-on Tutorial Day - 4\n",
        "<center> Data Visualisation"
      ],
      "metadata": {
        "id": "zmMxMO3iQd1L"
      }
    },
    {
      "cell_type": "markdown",
      "metadata": {
        "id": "0dd96647-6f8f-42a2-ae40-9a2cfe76280a"
      },
      "source": [
        "<h1> Contents: </h1>\n",
        "1. Scalar  <br />\n",
        "2. Vector <br />\n",
        "3. Matrix <br />\n",
        "4. Tensor <br />\n"
      ]
    },
    {
      "cell_type": "markdown",
      "source": [
        "###The study of linear algebra involves several types of mathematical objects:"
      ],
      "metadata": {
        "id": "hJkhPMfAqOyd"
      }
    },
    {
      "cell_type": "markdown",
      "source": [
        "####Scalars: A scalar is just a single number, all numbers we know from algebra are referred to as scalars in linear algebra. For instance, the number [12] is a scalar"
      ],
      "metadata": {
        "id": "uZFvSlpVqyeI"
      }
    },
    {
      "cell_type": "code",
      "source": [
        "# Declare a scalar as an int\n",
        "s = 3\n",
        "s"
      ],
      "metadata": {
        "id": "8VTBC-D0p3ax",
        "colab": {
          "base_uri": "https://localhost:8080/"
        },
        "outputId": "51cfc5f1-01db-4b7c-d1ba-caea01c4c972"
      },
      "execution_count": null,
      "outputs": [
        {
          "output_type": "execute_result",
          "data": {
            "text/plain": [
              "3"
            ]
          },
          "metadata": {},
          "execution_count": 38
        }
      ]
    },
    {
      "cell_type": "code",
      "source": [
        "# Declare s scalar as an array\n",
        "import numpy as np\n",
        "s_array = np.array(3)\n",
        "print(s_array)"
      ],
      "metadata": {
        "id": "CVxEqUVbp9XN",
        "colab": {
          "base_uri": "https://localhost:8080/"
        },
        "outputId": "131e5958-48c6-4eb2-b77f-91c8fcf8c4f2"
      },
      "execution_count": null,
      "outputs": [
        {
          "output_type": "stream",
          "name": "stdout",
          "text": [
            "3\n"
          ]
        }
      ]
    },
    {
      "cell_type": "markdown",
      "source": [
        "####Vectors: A vector is an array of numbers. Vectors are used in science to describe anything that has both magnitude and a direction"
      ],
      "metadata": {
        "id": "p1AbPe0BqqO9"
      }
    },
    {
      "cell_type": "code",
      "source": [
        "# Create a vector\n",
        "v = np.array([3,-5,6,1])\n",
        "print(v)\n",
        "len(v)"
      ],
      "metadata": {
        "id": "rAZ4L37pqF-q",
        "colab": {
          "base_uri": "https://localhost:8080/"
        },
        "outputId": "a927f0d8-859c-44bc-c71d-db6de4d67767"
      },
      "execution_count": null,
      "outputs": [
        {
          "output_type": "stream",
          "name": "stdout",
          "text": [
            "[ 3 -5  6  1]\n"
          ]
        },
        {
          "output_type": "execute_result",
          "data": {
            "text/plain": [
              "4"
            ]
          },
          "metadata": {},
          "execution_count": 40
        }
      ]
    },
    {
      "cell_type": "code",
      "source": [
        "magnitude = np.linalg.norm(v)\n",
        "magnitude"
      ],
      "metadata": {
        "colab": {
          "base_uri": "https://localhost:8080/"
        },
        "id": "quZUk2CnSGXx",
        "outputId": "ebccd741-8d38-452f-9e97-c4855b2cbc14"
      },
      "execution_count": null,
      "outputs": [
        {
          "output_type": "execute_result",
          "data": {
            "text/plain": [
              "8.426149773176359"
            ]
          },
          "metadata": {},
          "execution_count": 42
        }
      ]
    },
    {
      "cell_type": "code",
      "source": [
        "import math"
      ],
      "metadata": {
        "id": "qeXY_5TMSleS"
      },
      "execution_count": null,
      "outputs": []
    },
    {
      "cell_type": "code",
      "source": [
        "#magnitude = math.sqrt(sum(i**2 for i in v))\n",
        "magnitude = (sum(i**2 for i in v))**(0.5)\n",
        "magnitude"
      ],
      "metadata": {
        "colab": {
          "base_uri": "https://localhost:8080/"
        },
        "id": "PKoiwIgBSh1w",
        "outputId": "09470fbc-da0b-4489-da76-b94b238f63c2"
      },
      "execution_count": null,
      "outputs": [
        {
          "output_type": "execute_result",
          "data": {
            "text/plain": [
              "8.426149773176359"
            ]
          },
          "metadata": {},
          "execution_count": 50
        }
      ]
    },
    {
      "cell_type": "code",
      "source": [
        "import numpy as np\n",
        "import math"
      ],
      "metadata": {
        "id": "pWIuPkGJrILI"
      },
      "execution_count": null,
      "outputs": []
    },
    {
      "cell_type": "markdown",
      "source": [
        "The cosine of the angle between two nonzero vectors is equal to the dot product of the vectors divided by the product of their lengths"
      ],
      "metadata": {
        "id": "zmxVRzourpjz"
      }
    },
    {
      "cell_type": "code",
      "source": [
        "a = np.array([2,-3,4,7])\n",
        "b = np.array([5,3,2,-1])\n",
        "cosine_angle = a.dot(b)/(np.linalg.norm(a)*np.linalg.norm(b))\n",
        "print(np.linalg.norm(a))\n",
        "print(np.arccos(cosine_angle)*180/math.pi)"
      ],
      "metadata": {
        "id": "Exaphsx5rJtL",
        "colab": {
          "base_uri": "https://localhost:8080/"
        },
        "outputId": "3f5efc24-0947-42d2-8cbc-72575bb4c3e0"
      },
      "execution_count": null,
      "outputs": [
        {
          "output_type": "stream",
          "name": "stdout",
          "text": [
            "8.831760866327848\n",
            "87.92189136697016\n"
          ]
        }
      ]
    },
    {
      "cell_type": "markdown",
      "source": [
        "We can use scalars in vectorized operations"
      ],
      "metadata": {
        "id": "YLt31RQ5sB01"
      }
    },
    {
      "cell_type": "code",
      "source": [
        "v = np.array([3,-5,6,1])\n",
        "v*3\n",
        "v+3\n",
        "a = np.array([1,2,3,0])\n",
        "b = np.array([4,5,6,7])\n",
        "a+b\n",
        "a-b"
      ],
      "metadata": {
        "id": "6aetlzj1sAAi",
        "colab": {
          "base_uri": "https://localhost:8080/"
        },
        "outputId": "525ef88d-56a2-48a8-a7fd-391a51d1f6ff"
      },
      "execution_count": null,
      "outputs": [
        {
          "output_type": "execute_result",
          "data": {
            "text/plain": [
              "array([-3, -3, -3, -7])"
            ]
          },
          "metadata": {},
          "execution_count": 59
        }
      ]
    },
    {
      "cell_type": "markdown",
      "source": [
        "####Matrix: A matrix is a collection of numbers ordered in rows and columns"
      ],
      "metadata": {
        "id": "a1VSBAvGslSJ"
      }
    },
    {
      "cell_type": "code",
      "source": [
        "# Create a matrix\n",
        "m = np.array([[2,3,1], [5,6,3]])\n",
        "print(m)\n",
        "m.shape"
      ],
      "metadata": {
        "id": "0NfvVkCMsk8A",
        "colab": {
          "base_uri": "https://localhost:8080/"
        },
        "outputId": "3e99278b-21f8-4d00-a88e-07e979bf85df"
      },
      "execution_count": null,
      "outputs": [
        {
          "output_type": "stream",
          "name": "stdout",
          "text": [
            "[[2 3 1]\n",
            " [5 6 3]]\n"
          ]
        },
        {
          "output_type": "execute_result",
          "data": {
            "text/plain": [
              "(2, 3)"
            ]
          },
          "metadata": {},
          "execution_count": 69
        }
      ]
    },
    {
      "cell_type": "code",
      "source": [
        "M = np.arange(10).reshape(2,5)\n",
        "print(M)\n",
        "# Size of a matrix\n",
        "# Specific value\n",
        "print(M[1,3])"
      ],
      "metadata": {
        "id": "8j3aPYNzswQt",
        "colab": {
          "base_uri": "https://localhost:8080/"
        },
        "outputId": "585c70d6-0354-4df1-8131-21ec7701092a"
      },
      "execution_count": null,
      "outputs": [
        {
          "output_type": "stream",
          "name": "stdout",
          "text": [
            "[[0 1 2 3 4]\n",
            " [5 6 7 8 9]]\n",
            "8\n"
          ]
        }
      ]
    },
    {
      "cell_type": "code",
      "source": [
        "# Identity matrix\n",
        "np.identity(4)"
      ],
      "metadata": {
        "id": "X1JR16ppCyBn",
        "colab": {
          "base_uri": "https://localhost:8080/"
        },
        "outputId": "b3c39f0b-eafb-492f-9068-706ba75bbc43"
      },
      "execution_count": null,
      "outputs": [
        {
          "output_type": "execute_result",
          "data": {
            "text/plain": [
              "array([[1., 0., 0., 0.],\n",
              "       [0., 1., 0., 0.],\n",
              "       [0., 0., 1., 0.],\n",
              "       [0., 0., 0., 1.]])"
            ]
          },
          "metadata": {},
          "execution_count": 74
        }
      ]
    },
    {
      "cell_type": "markdown",
      "source": [
        "Determinant of a matrix: The determinant of a matrix is the scalar value or number calculated using a square matrix"
      ],
      "metadata": {
        "id": "afdIF5xgyZ72"
      }
    },
    {
      "cell_type": "code",
      "source": [
        "m = np.array([[2,3], [4,5]])\n",
        "m\n",
        "np.linalg.det(m)"
      ],
      "metadata": {
        "id": "LdGF89YCyhZK",
        "colab": {
          "base_uri": "https://localhost:8080/"
        },
        "outputId": "522276f1-d05c-4747-c790-9625b045ae7b"
      },
      "execution_count": null,
      "outputs": [
        {
          "output_type": "execute_result",
          "data": {
            "text/plain": [
              "-2.0"
            ]
          },
          "metadata": {},
          "execution_count": 75
        }
      ]
    },
    {
      "cell_type": "markdown",
      "source": [
        "Transpose of a matrix:\n",
        "The transpose of a matrix is found by interchanging its rows into columns or columns into rows"
      ],
      "metadata": {
        "id": "wXhWuDptv3lT"
      }
    },
    {
      "cell_type": "code",
      "source": [
        "c = np.array([[1,2,3,4], [8,4,2,0], [4,0,3,2]])\n",
        "print(c)\n",
        "print(c.T)"
      ],
      "metadata": {
        "id": "vpkV_BKnvmn-",
        "colab": {
          "base_uri": "https://localhost:8080/"
        },
        "outputId": "4091d8ee-e565-43ed-d3e1-d42bab9189b3"
      },
      "execution_count": null,
      "outputs": [
        {
          "output_type": "stream",
          "name": "stdout",
          "text": [
            "[[1 2 3 4]\n",
            " [8 4 2 0]\n",
            " [4 0 3 2]]\n",
            "[[1 8 4]\n",
            " [2 4 0]\n",
            " [3 2 3]\n",
            " [4 0 2]]\n"
          ]
        }
      ]
    },
    {
      "cell_type": "markdown",
      "source": [
        "Inverse of a matrix: The inverse of a square matrix A, sometimes called a reciprocal matrix, is a matrix $A^{(-1)}$ such that $A.A^{(-1)} = A^{(-1)}.A = I$,\twhere I is the identity matrix (applicable for invertible, non-singular, square matrix)\n",
        "\n"
      ],
      "metadata": {
        "id": "nCd-finmxD6u"
      }
    },
    {
      "cell_type": "code",
      "source": [
        "e = np.array([[2,4], [3,5]])\n",
        "inverse_matrix = np.linalg.inv(e)\n",
        "print(e)\n",
        "print(inverse_matrix)\n",
        "print(e.dot(inverse_matrix))\n",
        "print(inverse_matrix.dot(e))"
      ],
      "metadata": {
        "id": "6JWBA8t3xmXa",
        "colab": {
          "base_uri": "https://localhost:8080/"
        },
        "outputId": "2ed6d79e-dac0-4f44-f9f5-c44efb344d60"
      },
      "execution_count": null,
      "outputs": [
        {
          "output_type": "stream",
          "name": "stdout",
          "text": [
            "[[2 4]\n",
            " [3 5]]\n",
            "[[-2.5  2. ]\n",
            " [ 1.5 -1. ]]\n",
            "[[1.00000000e+00 4.44089210e-16]\n",
            " [2.22044605e-16 1.00000000e+00]]\n",
            "[[1.00000000e+00 1.99840144e-15]\n",
            " [0.00000000e+00 1.00000000e+00]]\n"
          ]
        }
      ]
    },
    {
      "cell_type": "markdown",
      "source": [
        "Multiplication of the matrices"
      ],
      "metadata": {
        "id": "L3hfAxE_ArZ9"
      }
    },
    {
      "cell_type": "code",
      "source": [
        "# Matrix multiplication can be done in 3 ways\n",
        "M = np.array([[1,6,6],[8,9,3],[2,3,7]])\n",
        "N = np.array([[1,6,6],[8,9,3],[2,3,7]])\n",
        "print(np.dot(M,N))\n",
        "print(M@N)\n",
        "print(np.matmul(M,N))"
      ],
      "metadata": {
        "id": "euxR-75JAuh9",
        "colab": {
          "base_uri": "https://localhost:8080/"
        },
        "outputId": "bfc5e205-e119-46e1-88a6-443168799851"
      },
      "execution_count": null,
      "outputs": [
        {
          "output_type": "stream",
          "name": "stdout",
          "text": [
            "[[ 61  78  66]\n",
            " [ 86 138  96]\n",
            " [ 40  60  70]]\n",
            "[[ 61  78  66]\n",
            " [ 86 138  96]\n",
            " [ 40  60  70]]\n",
            "[[ 61  78  66]\n",
            " [ 86 138  96]\n",
            " [ 40  60  70]]\n"
          ]
        }
      ]
    },
    {
      "cell_type": "code",
      "source": [
        "# Matrix power\n",
        "M = np.array([[1,2],[2,3]])\n",
        "print(M)\n",
        "print(np.linalg.matrix_power(M, 3))\n",
        "print(M@M)"
      ],
      "metadata": {
        "id": "oUJBQLTrBaSK",
        "colab": {
          "base_uri": "https://localhost:8080/"
        },
        "outputId": "276cb792-19a2-4595-86d7-137337be6ba7"
      },
      "execution_count": null,
      "outputs": [
        {
          "output_type": "stream",
          "name": "stdout",
          "text": [
            "[[1 2]\n",
            " [2 3]]\n",
            "[[21 34]\n",
            " [34 55]]\n",
            "[[ 5  8]\n",
            " [ 8 13]]\n"
          ]
        }
      ]
    },
    {
      "cell_type": "markdown",
      "source": [
        "Rank of a matrix: In linear algebra, the rank of a matrix A is the dimension of the vector space generated by its columns. This corresponds to the maximal number of linearly independent columns of A"
      ],
      "metadata": {
        "id": "jUT0dXI6EVEd"
      }
    },
    {
      "cell_type": "code",
      "source": [
        "# Rank of a martix\n",
        "#M = np.array([[1,6,6],[8,9,3],[2,3,7]])\n",
        "M = np.array([[1,2,3],[2,4,6],[2,3,7]])\n",
        "M\n",
        "np.linalg.matrix_rank(M)"
      ],
      "metadata": {
        "id": "uNkcm-dtEXfI",
        "colab": {
          "base_uri": "https://localhost:8080/"
        },
        "outputId": "7096c6ce-ed7f-4809-c52f-5075e303a018"
      },
      "execution_count": null,
      "outputs": [
        {
          "output_type": "execute_result",
          "data": {
            "text/plain": [
              "2"
            ]
          },
          "metadata": {},
          "execution_count": 91
        }
      ]
    },
    {
      "cell_type": "markdown",
      "source": [
        "Let A be an n × n matrix. <br /> An eigenvector of A is a nonzero vector v in R n such that Av = λ v , for some scalar λ <br /> An eigenvalue of A is a scalar λ such that the equation Av = λ v has a nontrivial solution <br /> If Av = λ v for v A = 0, we say that λ is the eigenvalue for v , and that v is an eigenvector for λ <br />The German prefix “eigen” roughly translates to “self” or “own”"
      ],
      "metadata": {
        "id": "HywcZQgLg7lZ"
      }
    },
    {
      "cell_type": "code",
      "source": [
        "A = np.matrix([[2,3,5,2], [4,6,10,4], [4,3,0,1], [2,3,1,6]])\n",
        "print(A)\n",
        "print(np.linalg.matrix_rank(A))\n",
        "eig_val, eig_vect = np.linalg.eig(A)\n",
        "print(eig_val)\n",
        "print(eig_vect)"
      ],
      "metadata": {
        "id": "oUtFN1EXiq81",
        "colab": {
          "base_uri": "https://localhost:8080/"
        },
        "outputId": "80b0cd58-4927-4add-bc26-5ca7cdc8f111"
      },
      "execution_count": null,
      "outputs": [
        {
          "output_type": "stream",
          "name": "stdout",
          "text": [
            "[[ 2  3  5  2]\n",
            " [ 4  6 10  4]\n",
            " [ 4  3  0  1]\n",
            " [ 2  3  1  6]]\n",
            "3\n",
            "[ 1.41001040e+01 -4.24421795e+00 -3.73171034e-16  4.14411392e+00]\n",
            "[[-0.38363531 -0.31218047  0.5497625  -0.17923096]\n",
            " [-0.76727061 -0.62436094 -0.79410139 -0.35846192]\n",
            " [-0.30159213  0.69406569  0.18325417 -0.21775101]\n",
            " [-0.41612732  0.17603863  0.18325417  0.88992461]]\n"
          ]
        }
      ]
    },
    {
      "cell_type": "markdown",
      "source": [
        "Reconstruction of a matrix from its eigen value and eigen vector $A=PΛP{^(−1)}$ , where  P  is the matrix whose columns are the eigenvectors of  A  and  Λ  is a diagonal matrix whose diagonal entries are the eigenvalues of  A  (listed in the same order as their corresponding eigenvectors listed in  P )"
      ],
      "metadata": {
        "id": "Cp7oRJ_DkJjf"
      }
    },
    {
      "cell_type": "code",
      "source": [
        "eig_val"
      ],
      "metadata": {
        "colab": {
          "base_uri": "https://localhost:8080/"
        },
        "id": "a6zIuykmg_tm",
        "outputId": "79519642-9aad-47eb-8f95-ee57c0dbd6e0"
      },
      "execution_count": null,
      "outputs": [
        {
          "output_type": "execute_result",
          "data": {
            "text/plain": [
              "array([ 1.41001040e+01, -4.24421795e+00, -3.73171034e-16,  4.14411392e+00])"
            ]
          },
          "metadata": {},
          "execution_count": 98
        }
      ]
    },
    {
      "cell_type": "code",
      "source": [
        "eig_vect"
      ],
      "metadata": {
        "colab": {
          "base_uri": "https://localhost:8080/"
        },
        "id": "OY41b6vKhCZk",
        "outputId": "d60bc04b-abdf-43cc-b40f-da151cb1edd7"
      },
      "execution_count": null,
      "outputs": [
        {
          "output_type": "execute_result",
          "data": {
            "text/plain": [
              "matrix([[-0.38363531, -0.31218047,  0.5497625 , -0.17923096],\n",
              "        [-0.76727061, -0.62436094, -0.79410139, -0.35846192],\n",
              "        [-0.30159213,  0.69406569,  0.18325417, -0.21775101],\n",
              "        [-0.41612732,  0.17603863,  0.18325417,  0.88992461]])"
            ]
          },
          "metadata": {},
          "execution_count": 99
        }
      ]
    },
    {
      "cell_type": "code",
      "source": [
        "#Reconstruction of a matrix from its eigen value and eigen vector\n",
        "Z = eig_vect.dot(np.diag(eig_val)).dot(np.linalg.inv(eig_vect))\n",
        "print(A)\n",
        "print(Z)"
      ],
      "metadata": {
        "id": "kS6YgzwpjhdV",
        "colab": {
          "base_uri": "https://localhost:8080/"
        },
        "outputId": "86d368b5-f851-468b-f258-c953756aa4df"
      },
      "execution_count": null,
      "outputs": [
        {
          "output_type": "stream",
          "name": "stdout",
          "text": [
            "[[ 2  3  5  2]\n",
            " [ 4  6 10  4]\n",
            " [ 4  3  0  1]\n",
            " [ 2  3  1  6]]\n",
            "[[ 2.00000000e+00  3.00000000e+00  5.00000000e+00  2.00000000e+00]\n",
            " [ 4.00000000e+00  6.00000000e+00  1.00000000e+01  4.00000000e+00]\n",
            " [ 4.00000000e+00  3.00000000e+00 -1.39137055e-15  1.00000000e+00]\n",
            " [ 2.00000000e+00  3.00000000e+00  1.00000000e+00  6.00000000e+00]]\n"
          ]
        }
      ]
    },
    {
      "cell_type": "code",
      "source": [
        "np.diag(eig_val)"
      ],
      "metadata": {
        "colab": {
          "base_uri": "https://localhost:8080/"
        },
        "id": "Js_zNmVIhQh1",
        "outputId": "953cf65a-adad-4e01-e29f-0ad113d7209f"
      },
      "execution_count": null,
      "outputs": [
        {
          "output_type": "execute_result",
          "data": {
            "text/plain": [
              "array([[ 1.41001040e+01,  0.00000000e+00,  0.00000000e+00,\n",
              "         0.00000000e+00],\n",
              "       [ 0.00000000e+00, -4.24421795e+00,  0.00000000e+00,\n",
              "         0.00000000e+00],\n",
              "       [ 0.00000000e+00,  0.00000000e+00, -3.73171034e-16,\n",
              "         0.00000000e+00],\n",
              "       [ 0.00000000e+00,  0.00000000e+00,  0.00000000e+00,\n",
              "         4.14411392e+00]])"
            ]
          },
          "metadata": {},
          "execution_count": 100
        }
      ]
    },
    {
      "cell_type": "code",
      "source": [
        "#Matrix power using eiven value and eigen vector\n",
        "A3 = eig_vect.dot(np.linalg.matrix_power(np.diag(eig_val), 2)).dot(np.linalg.inv(eig_vect))\n",
        "print(A3)\n",
        "print(A@A)"
      ],
      "metadata": {
        "id": "PMEl4QMNmaFB",
        "colab": {
          "base_uri": "https://localhost:8080/"
        },
        "outputId": "df717876-c225-4a0f-a94c-0abe071dcddc"
      },
      "execution_count": null,
      "outputs": [
        {
          "output_type": "stream",
          "name": "stdout",
          "text": [
            "[[40. 45. 42. 33.]\n",
            " [80. 90. 84. 66.]\n",
            " [22. 33. 51. 26.]\n",
            " [32. 45. 46. 53.]]\n",
            "[[40 45 42 33]\n",
            " [80 90 84 66]\n",
            " [22 33 51 26]\n",
            " [32 45 46 53]]\n"
          ]
        }
      ]
    },
    {
      "cell_type": "markdown",
      "source": [
        "Solve the system of equations x0 + 2 * x1 = 1 and 3 * x0 + 5 * x1 = 2:"
      ],
      "metadata": {
        "id": "uwXATJijn8FQ"
      }
    },
    {
      "cell_type": "code",
      "source": [
        "a = np.array([[1, 2], [3, 5]])\n",
        "b = np.array([1, 2])\n",
        "x = np.linalg.solve(a, b)\n",
        "x"
      ],
      "metadata": {
        "id": "YJozCL_knaNI",
        "colab": {
          "base_uri": "https://localhost:8080/"
        },
        "outputId": "8188b0cc-c43d-495e-86ce-52080136d8e1"
      },
      "execution_count": null,
      "outputs": [
        {
          "output_type": "execute_result",
          "data": {
            "text/plain": [
              "array([-1.,  1.])"
            ]
          },
          "metadata": {},
          "execution_count": 103
        }
      ]
    },
    {
      "cell_type": "markdown",
      "source": [
        "Singular Value Decomposition"
      ],
      "metadata": {
        "id": "uguXJ5jPoAd1"
      }
    },
    {
      "cell_type": "markdown",
      "source": [
        "The Singular Value Decomposition (SVD) of a matrix is a factorization of that matrix into three matrices. It has some interesting algebraic properties and conveys important geometrical and theoretical insights about linear transformations. It also has some important applications in data science"
      ],
      "metadata": {
        "id": "edUiqi6lpE83"
      }
    },
    {
      "cell_type": "code",
      "source": [
        "A = np.matrix([[-2,1,4,5], [2,0,4,-2], [3,0,9,-1]])\n",
        "U, E, V = np.linalg.svd(A)\n",
        "print(U)\n",
        "print(E)\n",
        "print(V)"
      ],
      "metadata": {
        "id": "wAGg7j7Ios0F",
        "colab": {
          "base_uri": "https://localhost:8080/"
        },
        "outputId": "9b61a86f-b295-41f5-e10a-d571286e0526"
      },
      "execution_count": null,
      "outputs": [
        {
          "output_type": "stream",
          "name": "stdout",
          "text": [
            "[[ 0.30215165  0.92737206 -0.22064778]\n",
            " [ 0.40173501 -0.3337862  -0.85275774]\n",
            " [ 0.86447288 -0.16902022  0.47341188]]\n",
            "[10.96291785  6.38151364  0.30119075]\n",
            "[[ 0.25473012  0.02756124  0.966513   -0.01433785]\n",
            " [-0.47471139  0.14532164  0.13369264  0.85770449]\n",
            " [ 0.51799636 -0.73258485 -0.10928344  0.42785085]\n",
            " [ 0.6644106   0.6644106  -0.1898316   0.2847474 ]]\n"
          ]
        }
      ]
    },
    {
      "cell_type": "markdown",
      "source": [
        "Characteristics of SVD"
      ],
      "metadata": {
        "id": "OaDgLDI-pzHQ"
      }
    },
    {
      "cell_type": "markdown",
      "source": [
        "U:  mxn matrix of the orthonormal eigenvectors of $AA^{T}$        \n",
        "$V^{T}$: transpose of a nxn matrix containing the orthonormal eigenvectors of $A^{T}A$  \n",
        "W:  a nxn diagonal matrix of the singular values which are the square roots of the eigenvalues of $A^{T}A$          ."
      ],
      "metadata": {
        "id": "7QzbFkMyTfCs"
      }
    },
    {
      "cell_type": "code",
      "source": [
        "x1 = U.dot(U.T)\n",
        "x2 = V.dot (V.T)\n",
        "print(x1)\n",
        "print(x2)"
      ],
      "metadata": {
        "id": "c4p9RE1_p1JU",
        "colab": {
          "base_uri": "https://localhost:8080/"
        },
        "outputId": "da2eabf1-d37c-433c-e571-1dcad9e1f857"
      },
      "execution_count": null,
      "outputs": [
        {
          "output_type": "stream",
          "name": "stdout",
          "text": [
            "[[ 1.00000000e+00 -1.80838017e-16 -7.52434030e-17]\n",
            " [-1.80838017e-16  1.00000000e+00  2.72860953e-16]\n",
            " [-7.52434030e-17  2.72860953e-16  1.00000000e+00]]\n",
            "[[ 1.00000000e+00  1.00925500e-16 -3.98965716e-17 -1.16899019e-16]\n",
            " [ 1.00925500e-16  1.00000000e+00 -1.96803287e-16 -4.47444641e-17]\n",
            " [-3.98965716e-17 -1.96803287e-16  1.00000000e+00  2.09447310e-16]\n",
            " [-1.16899019e-16 -4.47444641e-17  2.09447310e-16  1.00000000e+00]]\n"
          ]
        }
      ]
    },
    {
      "cell_type": "markdown",
      "source": [
        "Null space (Kernel) and nullity"
      ],
      "metadata": {
        "id": "D3nS_WhjK0BF"
      }
    },
    {
      "cell_type": "code",
      "source": [
        "from sympy import Matrix\n",
        "import numpy as np\n",
        "\n",
        "A = np.matrix([[1, 2, 3], [2, 4, 6], [3, 10, 9]])\n",
        "A = Matrix(A)\n",
        "\n",
        "# Null Space of A\n",
        "NullSpace = A.nullspace()   # Here NullSpace is a list\n",
        "\n",
        "NullSpace = Matrix(NullSpace)   # Here NullSpace is a Matrix\n",
        "#print(\"Null Space : \", NullSpace)\n",
        "\n",
        "# checking whether NullSpace satisfies the\n",
        "# given condition or not as A * NullSpace = 0\n",
        "# if NullSpace is null space of A\n",
        "print(Matrix(A * NullSpace))\n",
        "#NullSpace"
      ],
      "metadata": {
        "id": "7QF3bncXuTGg",
        "colab": {
          "base_uri": "https://localhost:8080/"
        },
        "outputId": "54872142-2339-4865-9029-4290a0064f49"
      },
      "execution_count": null,
      "outputs": [
        {
          "output_type": "stream",
          "name": "stdout",
          "text": [
            "Matrix([[0], [0], [0]])\n"
          ]
        }
      ]
    },
    {
      "cell_type": "markdown",
      "source": [
        "Nullity of A + Rank of A = Total number of attributes of A (i.e. total number of columns in A)"
      ],
      "metadata": {
        "id": "Fc7Qa1R0ub7M"
      }
    },
    {
      "cell_type": "code",
      "source": [
        "# Number of Columns\n",
        "NoC = A.shape[1]\n",
        "\n",
        "# Rank of A\n",
        "rank = A.rank()\n",
        "print(rank)\n",
        "\n",
        "# Nullity of the Matrix\n",
        "nullity = NoC - rank\n",
        "nullity"
      ],
      "metadata": {
        "id": "ahQWylEKyqCr",
        "colab": {
          "base_uri": "https://localhost:8080/"
        },
        "outputId": "5124dab6-2b61-4aef-c326-a5aae6f9f3be"
      },
      "execution_count": null,
      "outputs": [
        {
          "output_type": "stream",
          "name": "stdout",
          "text": [
            "2\n"
          ]
        },
        {
          "output_type": "execute_result",
          "data": {
            "text/plain": [
              "1"
            ]
          },
          "metadata": {},
          "execution_count": 114
        }
      ]
    },
    {
      "cell_type": "markdown",
      "source": [
        "Find the nullspace, nullity and rank of the matrix\n",
        "\n",
        "A = np.matrix([[2,3,5,2], [4,6,10,4], [4,3,0,1], [2,3,1,6]])\n"
      ],
      "metadata": {
        "id": "VCWTqz6Zl4sD"
      }
    },
    {
      "cell_type": "code",
      "source": [
        "A = np.matrix([[2,3,5,2], [4,6,10,4], [4,6,2,12], [2,3,1,6]])\n",
        "A = Matrix(A)\n",
        "nullspace = A.nullspace()\n",
        "Matrix(nullspace)\n",
        "\n",
        "#A.shape[1]\n",
        "\n",
        "#A.rank()"
      ],
      "metadata": {
        "colab": {
          "base_uri": "https://localhost:8080/",
          "height": 180
        },
        "id": "KNOkynKkludP",
        "outputId": "d4503564-d9f9-4d57-ba79-bfde58347b33"
      },
      "execution_count": null,
      "outputs": [
        {
          "output_type": "execute_result",
          "data": {
            "text/plain": [
              "Matrix([\n",
              "[-3/2],\n",
              "[   1],\n",
              "[   0],\n",
              "[   0],\n",
              "[-7/2],\n",
              "[   0],\n",
              "[   1],\n",
              "[   1]])"
            ],
            "text/latex": "$\\displaystyle \\left[\\begin{matrix}- \\frac{3}{2}\\\\1\\\\0\\\\0\\\\- \\frac{7}{2}\\\\0\\\\1\\\\1\\end{matrix}\\right]$"
          },
          "metadata": {},
          "execution_count": 127
        }
      ]
    },
    {
      "cell_type": "markdown",
      "source": [
        "####Tensor: In mathematics, a tensor is an algebraic object that describes a multilinear relationship between sets of algebraic objects related to a vector space"
      ],
      "metadata": {
        "id": "N6Aai3DKpSJU"
      }
    },
    {
      "cell_type": "code",
      "source": [
        "#Create a tensor\n",
        "m1 = np.array([[2,3,1], [5,6,3]])\n",
        "m2 = np.array([[3,-1,5], [9,2,4]])\n",
        "\n",
        "#Tensor: m1+m2\n",
        "t = np.array([m1,m2])\n",
        "print(t)\n",
        "print(t.shape)"
      ],
      "metadata": {
        "id": "fJ7ZOrmnpSzt",
        "colab": {
          "base_uri": "https://localhost:8080/"
        },
        "outputId": "0ee0ae16-65d0-428b-d999-a7ee3b8c2c91"
      },
      "execution_count": null,
      "outputs": [
        {
          "output_type": "stream",
          "name": "stdout",
          "text": [
            "[[[ 2  3  1]\n",
            "  [ 5  6  3]]\n",
            "\n",
            " [[ 3 -1  5]\n",
            "  [ 9  2  4]]]\n",
            "(2, 2, 3)\n"
          ]
        }
      ]
    },
    {
      "cell_type": "code",
      "source": [
        "T = np.array([[[1,2,3], [4,5,6], [7,8,9]], [[11,12,13], [14,15,16], [17,18,19]]])\n",
        "print(T)\n",
        "print(T.shape)"
      ],
      "metadata": {
        "id": "yBtiQRh8pm8Q",
        "colab": {
          "base_uri": "https://localhost:8080/"
        },
        "outputId": "c34ec237-591e-476f-e392-71d08033b982"
      },
      "execution_count": null,
      "outputs": [
        {
          "output_type": "stream",
          "name": "stdout",
          "text": [
            "[[[ 1  2  3]\n",
            "  [ 4  5  6]\n",
            "  [ 7  8  9]]\n",
            "\n",
            " [[11 12 13]\n",
            "  [14 15 16]\n",
            "  [17 18 19]]]\n",
            "(2, 3, 3)\n"
          ]
        }
      ]
    },
    {
      "cell_type": "markdown",
      "source": [
        "Tensor Operations"
      ],
      "metadata": {
        "id": "sR1ChuhZ1wsX"
      }
    },
    {
      "cell_type": "code",
      "source": [
        "import numpy as np\n",
        "A = np.array([\n",
        "    [[1, 2, 3],\n",
        "     [4, 5, 6],\n",
        "     [7, 8, 9]],\n",
        "    [[10, 11, 12],\n",
        "     [13, 14, 15],\n",
        "     [16, 17, 18]],\n",
        "    [[19, 20, 21],\n",
        "     [22, 23, 24],\n",
        "     [25, 26, 27]]\n",
        "])\n",
        "\n",
        "B = np.array([\n",
        "    [[1, 2, 3],\n",
        "     [4, 5, 6],\n",
        "     [7, 8, 9]],\n",
        "    [[10, 11, 12],\n",
        "     [13, 14, 15],\n",
        "     [16, 17, 18]],\n",
        "    [[19, 20, 21],\n",
        "     [22, 23, 24],\n",
        "     [25, 26, 27]]\n",
        "])\n",
        "\n",
        "C = A+B\n",
        "C = A-B\n",
        "C = A*B\n",
        "C = A/B\n",
        "C"
      ],
      "metadata": {
        "id": "7p-2UAc41yxY",
        "colab": {
          "base_uri": "https://localhost:8080/"
        },
        "outputId": "f6691a94-8cb3-4ff5-9dc4-3589d466a2f3"
      },
      "execution_count": null,
      "outputs": [
        {
          "output_type": "execute_result",
          "data": {
            "text/plain": [
              "array([[[1., 1., 1.],\n",
              "        [1., 1., 1.],\n",
              "        [1., 1., 1.]],\n",
              "\n",
              "       [[1., 1., 1.],\n",
              "        [1., 1., 1.],\n",
              "        [1., 1., 1.]],\n",
              "\n",
              "       [[1., 1., 1.],\n",
              "        [1., 1., 1.],\n",
              "        [1., 1., 1.]]])"
            ]
          },
          "metadata": {},
          "execution_count": 133
        }
      ]
    },
    {
      "cell_type": "markdown",
      "source": [
        "Tensor dot product"
      ],
      "metadata": {
        "id": "njT0s4Km27ip"
      }
    },
    {
      "cell_type": "code",
      "source": [
        "from numpy import tensordot\n",
        "\n",
        "A = np.array([1, 2])\n",
        "B = np.array([3, 4])\n",
        "\n",
        "C = tensordot(A, B, axes=0)\n",
        "C"
      ],
      "metadata": {
        "colab": {
          "base_uri": "https://localhost:8080/"
        },
        "id": "u9PWuJeI29R0",
        "outputId": "74887963-7890-4cb4-fb85-0ee461e119be"
      },
      "execution_count": null,
      "outputs": [
        {
          "output_type": "execute_result",
          "data": {
            "text/plain": [
              "array([[3, 4],\n",
              "       [6, 8]])"
            ]
          },
          "metadata": {},
          "execution_count": 134
        }
      ]
    },
    {
      "cell_type": "code",
      "source": [
        "import scipy"
      ],
      "metadata": {
        "id": "AwfQ-hlVODEW"
      },
      "execution_count": null,
      "outputs": []
    },
    {
      "cell_type": "markdown",
      "source": [
        "#### Optimization"
      ],
      "metadata": {
        "id": "M0GvLBLZyA1P"
      }
    },
    {
      "cell_type": "markdown",
      "source": [],
      "metadata": {
        "id": "r3aYzkI3Y-dQ"
      }
    },
    {
      "cell_type": "markdown",
      "source": [
        "1. Function : $y = x_{1} +  x_{2}$\n",
        "\n",
        "2. Constraints: $x_1\\ \\ge\\ 4$  \n",
        "$\\hspace{25mm}x_2\\ \\le\\ 6$  \n",
        "$\\hspace{25mm}x_1\\ + x_2\\ \\le\\ 8$"
      ],
      "metadata": {
        "id": "h6x0VfpF4Va_"
      }
    },
    {
      "cell_type": "markdown",
      "source": [
        "![LP.png](https://drive.google.com/uc?export=view&id=1NkAjhlf--B9HGYRDFYZ09-jkv96RVTNe)"
      ],
      "metadata": {
        "id": "GodmiXqvAb-W"
      }
    },
    {
      "cell_type": "markdown",
      "source": [
        "To maximize our function, the objective f(x) = $(c^T.x)$ is defined by $min -f(x)$ and the inequality equations needs to be changed to match the inequality constraint format"
      ],
      "metadata": {
        "id": "ixQdz6QvjOFQ"
      }
    },
    {
      "cell_type": "code",
      "source": [
        "obj = [-1,-1]\n",
        "lhs_ineq = [[-1,0],[0,1],[1,1]]\n",
        "rhs_ineq = [-4,6,8]\n",
        "opt = scipy.optimize.linprog(c=obj,A_ub=lhs_ineq,b_ub = rhs_ineq)\n",
        "opt"
      ],
      "metadata": {
        "id": "JShL1M9K-NLq"
      },
      "execution_count": null,
      "outputs": []
    },
    {
      "cell_type": "markdown",
      "source": [
        "The *linprog()* output reports the minimized/maximized objective function value (opt.fun) and the solution vector (opt.x)"
      ],
      "metadata": {
        "id": "eeX6eIsnkK0r"
      }
    },
    {
      "cell_type": "markdown",
      "source": [
        "##### Question\n",
        "\n"
      ],
      "metadata": {
        "id": "nCV8Hn51-Mxr"
      }
    },
    {
      "cell_type": "markdown",
      "source": [
        "$maximize\\ z = x + 2y$  \n",
        "$subject\\ to \\ 2x + y\\ \\le\\ 20$  \n",
        "$\\hspace{20mm} -4x+5y\\ \\le\\ 10$  \n",
        "$\\hspace{20mm}  x - 2y\\ \\le\\ 2$  \n",
        "$\\hspace{20mm}  -x + 5y\\ =\\ 15$  \n",
        "$\\hspace{20mm}  x\\ \\ge\\ 0,\\ y\\ \\ge\\ 0$  \n"
      ],
      "metadata": {
        "id": "8e4JhNE90Dsq"
      }
    },
    {
      "cell_type": "markdown",
      "source": [
        "###### Solution"
      ],
      "metadata": {
        "id": "0D2eM7TaAtO6"
      }
    },
    {
      "cell_type": "code",
      "source": [
        "obj = [-1,-2]\n",
        "lhs_ineq = [[ 2,  1], [-4,  5], [ 1, -2]]\n",
        "rhs_ineq = [20,10,2]\n",
        "lhs_eq = [[-1, 5]]\n",
        "rhs_eq = [15]"
      ],
      "metadata": {
        "id": "1zAsRgjDyDp1"
      },
      "execution_count": null,
      "outputs": []
    },
    {
      "cell_type": "code",
      "source": [
        "# Bounds\n",
        "import math\n",
        "bound = [[0,math.inf],[0,math.inf]]"
      ],
      "metadata": {
        "id": "virPioF-3LdA"
      },
      "execution_count": null,
      "outputs": []
    },
    {
      "cell_type": "code",
      "source": [
        "from scipy.optimize import linprog\n",
        "# Optimization\n",
        "opt = linprog(c=obj, A_ub=lhs_ineq, b_ub=rhs_ineq,\n",
        "              A_eq=lhs_eq, b_eq=rhs_eq, bounds=bound)\n",
        "opt"
      ],
      "metadata": {
        "id": "Pp5Aw7Ep3jvU"
      },
      "execution_count": null,
      "outputs": []
    }
  ]
}